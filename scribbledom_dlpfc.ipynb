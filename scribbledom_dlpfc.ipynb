{
  "cells": [
    {
      "cell_type": "markdown",
      "metadata": {},
      "source": [
        "[![Open In Colab](https://colab.research.google.com/assets/colab-badge.svg)](https://colab.research.google.com/github/asifajrof/ScribbleDom-time-analysis/blob/main/scribbledom_dlpfc.ipynb)"
      ]
    },
    {
      "cell_type": "markdown",
      "metadata": {
        "id": "VdQ_d69F4Kct"
      },
      "source": [
        "# setup"
      ]
    },
    {
      "cell_type": "markdown",
      "metadata": {
        "id": "TRqMsIVs4nSY"
      },
      "source": [
        "## requirements"
      ]
    },
    {
      "cell_type": "code",
      "execution_count": null,
      "metadata": {
        "id": "Hw4F8a8o4pT0"
      },
      "outputs": [],
      "source": [
        "! pip install -q scanpy"
      ]
    },
    {
      "cell_type": "code",
      "execution_count": null,
      "metadata": {
        "id": "QT0oK7qUF8-6"
      },
      "outputs": [],
      "source": [
        "! sudo apt install time"
      ]
    },
    {
      "cell_type": "code",
      "execution_count": null,
      "metadata": {
        "id": "1oN5JaM44qPd"
      },
      "outputs": [],
      "source": [
        "! apt-get install libcairo2-dev\n",
        "! apt-get install libxt-dev"
      ]
    },
    {
      "cell_type": "markdown",
      "metadata": {
        "id": "pnjyPOPS4M_X"
      },
      "source": [
        "## repo clone"
      ]
    },
    {
      "cell_type": "code",
      "execution_count": null,
      "metadata": {
        "colab": {
          "base_uri": "https://localhost:8080/"
        },
        "id": "aK60xOGM4Fcn",
        "outputId": "f16f9d07-e9a9-4d26-b184-664465987bd9"
      },
      "outputs": [],
      "source": [
        "! git clone https://github.com/1alnoman/ScribbleDom.git"
      ]
    },
    {
      "cell_type": "markdown",
      "metadata": {
        "id": "i4_JLoIa4Tb3"
      },
      "source": [
        "## folder refactoring"
      ]
    },
    {
      "cell_type": "code",
      "execution_count": null,
      "metadata": {
        "colab": {
          "base_uri": "https://localhost:8080/"
        },
        "id": "6CNbhiuK4UzY",
        "outputId": "9940a75b-507b-4470-829d-4956e0df9148"
      },
      "outputs": [],
      "source": [
        "%cd ScribbleDom"
      ]
    },
    {
      "cell_type": "markdown",
      "metadata": {
        "id": "lNpmh0JQ4Xmp"
      },
      "source": [
        "### move raw data to different folder"
      ]
    },
    {
      "cell_type": "code",
      "execution_count": null,
      "metadata": {
        "id": "X9JBYyIG4dIW"
      },
      "outputs": [],
      "source": [
        "import os\n",
        "import shutil\n",
        "\n",
        "dataset = 'Human_DLPFC'\n",
        "raw_folder = 'raw_gene_x'\n",
        "samples = [\"151507\",\"151508\",\"151509\",\"151510\",\"151669\",\"151670\",\"151671\",\"151672\",\"151673\",\"151674\",\"151675\",\"151676\"]"
      ]
    },
    {
      "cell_type": "code",
      "execution_count": null,
      "metadata": {
        "id": "EMQEqAd14fCo"
      },
      "outputs": [],
      "source": [
        "for sample in samples:\n",
        "    src = f\"preprocessed_data/{dataset}/{sample}/reading_h5\"\n",
        "    dst = f\"{raw_folder}/{dataset}/{sample}\"\n",
        "    shutil.copytree(src,dst)"
      ]
    },
    {
      "cell_type": "code",
      "execution_count": null,
      "metadata": {
        "id": "EDTW_WOAGR4r"
      },
      "outputs": [],
      "source": [
        "os.rename(f\"preprocessed_data\", f\"preprocessed_data_bkp\")"
      ]
    },
    {
      "cell_type": "markdown",
      "metadata": {},
      "source": [
        "## helper codes"
      ]
    },
    {
      "cell_type": "code",
      "execution_count": null,
      "metadata": {},
      "outputs": [],
      "source": [
        "! wget \"https://raw.githubusercontent.com/asifajrof/ScribbleDom-time-analysis/main/run_scribbledom.py\" -O \"run_scribbledom.py\"\n",
        "! wget \"https://github.com/asifajrof/ScribbleDom-time-analysis/raw/main/dlpfc_configs.zip\" -O \"dlpfc_configs.zip\""
      ]
    },
    {
      "cell_type": "markdown",
      "metadata": {
        "id": "Ktzg4JpT42Tz"
      },
      "source": [
        "# run"
      ]
    },
    {
      "cell_type": "code",
      "execution_count": null,
      "metadata": {
        "id": "V9S-Yd2jNu2P"
      },
      "outputs": [],
      "source": [
        "! unzip dlpfc_configs.zip"
      ]
    },
    {
      "cell_type": "code",
      "execution_count": null,
      "metadata": {
        "colab": {
          "base_uri": "https://localhost:8080/"
        },
        "id": "UXilhB6dKqaa",
        "outputId": "d5858dcd-7c0c-4991-c804-3fb33404f9ff"
      },
      "outputs": [],
      "source": [
        "! /usr/bin/time -v python3 run_scribbledom.py dlpfc_configs/mclust_configs/config_151507_mclust.json mclust"
      ]
    },
    {
      "cell_type": "code",
      "execution_count": null,
      "metadata": {
        "colab": {
          "base_uri": "https://localhost:8080/"
        },
        "id": "4y2iRsdUNfmQ",
        "outputId": "cac9e05f-bff1-4841-fa30-a34d9f7603bf"
      },
      "outputs": [],
      "source": [
        "! /usr/bin/time -v python3 run_scribbledom.py dlpfc_configs/mclust_configs/config_151508_mclust.json mclust"
      ]
    },
    {
      "cell_type": "code",
      "execution_count": null,
      "metadata": {
        "colab": {
          "base_uri": "https://localhost:8080/"
        },
        "id": "pcSa3cUQNhXl",
        "outputId": "265eb624-3a6a-45ac-c8f1-4725e32295e4"
      },
      "outputs": [],
      "source": [
        "! /usr/bin/time -v python3 run_scribbledom.py dlpfc_configs/mclust_configs/config_151509_mclust.json mclust"
      ]
    },
    {
      "cell_type": "code",
      "execution_count": null,
      "metadata": {
        "id": "IclJWi5pNjBg"
      },
      "outputs": [],
      "source": [
        "! /usr/bin/time -v python3 run_scribbledom.py dlpfc_configs/mclust_configs/config_151510_mclust.json mclust"
      ]
    },
    {
      "cell_type": "code",
      "execution_count": null,
      "metadata": {
        "id": "Bv9C4wj7NllJ"
      },
      "outputs": [],
      "source": [
        "! /usr/bin/time -v python3 run_scribbledom.py dlpfc_configs/mclust_configs/config_151669_mclust.json mclust"
      ]
    },
    {
      "cell_type": "code",
      "execution_count": null,
      "metadata": {
        "id": "dm8KKYcUNnwu"
      },
      "outputs": [],
      "source": [
        "! /usr/bin/time -v python3 run_scribbledom.py dlpfc_configs/mclust_configs/config_151670_mclust.json mclust"
      ]
    },
    {
      "cell_type": "code",
      "execution_count": null,
      "metadata": {
        "id": "AyZps5ruN_H1"
      },
      "outputs": [],
      "source": [
        "! /usr/bin/time -v python3 run_scribbledom.py dlpfc_configs/mclust_configs/config_151671_mclust.json mclust"
      ]
    },
    {
      "cell_type": "code",
      "execution_count": null,
      "metadata": {
        "id": "mgrG416ROAe4"
      },
      "outputs": [],
      "source": [
        "! /usr/bin/time -v python3 run_scribbledom.py dlpfc_configs/mclust_configs/config_151672_mclust.json mclust"
      ]
    },
    {
      "cell_type": "code",
      "execution_count": null,
      "metadata": {
        "id": "49c-zgMCOBsh"
      },
      "outputs": [],
      "source": [
        "! /usr/bin/time -v python3 run_scribbledom.py dlpfc_configs/mclust_configs/config_151673_mclust.json mclust"
      ]
    },
    {
      "cell_type": "code",
      "execution_count": null,
      "metadata": {
        "id": "4FZzhOZWODA5"
      },
      "outputs": [],
      "source": [
        "! /usr/bin/time -v python3 run_scribbledom.py dlpfc_configs/mclust_configs/config_151674_mclust.json mclust"
      ]
    },
    {
      "cell_type": "code",
      "execution_count": null,
      "metadata": {
        "id": "KadFK4kbOEL1"
      },
      "outputs": [],
      "source": [
        "! /usr/bin/time -v python3 run_scribbledom.py dlpfc_configs/mclust_configs/config_151675_mclust.json mclust"
      ]
    },
    {
      "cell_type": "code",
      "execution_count": null,
      "metadata": {
        "id": "073WSOdnOFRR"
      },
      "outputs": [],
      "source": [
        "! /usr/bin/time -v python3 run_scribbledom.py dlpfc_configs/mclust_configs/config_151676_mclust.json mclust"
      ]
    },
    {
      "cell_type": "code",
      "execution_count": null,
      "metadata": {
        "id": "IKmha3y2OHfB"
      },
      "outputs": [],
      "source": [
        "! /usr/bin/time -v python3 run_scribbledom.py dlpfc_configs/expert_configs/config_151507_expert.json expert"
      ]
    },
    {
      "cell_type": "code",
      "execution_count": null,
      "metadata": {
        "id": "F0Qb5cRHOJcH"
      },
      "outputs": [],
      "source": [
        "! /usr/bin/time -v python3 run_scribbledom.py dlpfc_configs/expert_configs/config_151508_expert.json expert"
      ]
    },
    {
      "cell_type": "code",
      "execution_count": null,
      "metadata": {
        "id": "-EOiwRgPOKrG"
      },
      "outputs": [],
      "source": [
        "! /usr/bin/time -v python3 run_scribbledom.py dlpfc_configs/expert_configs/config_151509_expert.json expert"
      ]
    },
    {
      "cell_type": "code",
      "execution_count": null,
      "metadata": {
        "id": "lX3S3mMDOLw8"
      },
      "outputs": [],
      "source": [
        "! /usr/bin/time -v python3 run_scribbledom.py dlpfc_configs/expert_configs/config_151510_expert.json expert"
      ]
    },
    {
      "cell_type": "code",
      "execution_count": null,
      "metadata": {
        "id": "w4yUULojOM_x"
      },
      "outputs": [],
      "source": [
        "! /usr/bin/time -v python3 run_scribbledom.py dlpfc_configs/expert_configs/config_151669_expert.json expert"
      ]
    },
    {
      "cell_type": "code",
      "execution_count": null,
      "metadata": {
        "id": "UWX4Qzg5OOPo"
      },
      "outputs": [],
      "source": [
        "! /usr/bin/time -v python3 run_scribbledom.py dlpfc_configs/expert_configs/config_151670_expert.json expert"
      ]
    },
    {
      "cell_type": "code",
      "execution_count": null,
      "metadata": {
        "id": "sMfLxiRoOPW6"
      },
      "outputs": [],
      "source": [
        "! /usr/bin/time -v python3 run_scribbledom.py dlpfc_configs/expert_configs/config_151671_expert.json expert"
      ]
    },
    {
      "cell_type": "code",
      "execution_count": null,
      "metadata": {
        "id": "dA3Nmfj3OQVy"
      },
      "outputs": [],
      "source": [
        "! /usr/bin/time -v python3 run_scribbledom.py dlpfc_configs/expert_configs/config_151672_expert.json expert"
      ]
    },
    {
      "cell_type": "code",
      "execution_count": null,
      "metadata": {
        "id": "Z6UnBaLqORsC"
      },
      "outputs": [],
      "source": [
        "! /usr/bin/time -v python3 run_scribbledom.py dlpfc_configs/expert_configs/config_151673_expert.json expert"
      ]
    },
    {
      "cell_type": "code",
      "execution_count": null,
      "metadata": {
        "id": "EsZCJ9xgOTWX"
      },
      "outputs": [],
      "source": [
        "! /usr/bin/time -v python3 run_scribbledom.py dlpfc_configs/expert_configs/config_151674_expert.json expert"
      ]
    },
    {
      "cell_type": "code",
      "execution_count": null,
      "metadata": {
        "id": "aR3llgonOUXX"
      },
      "outputs": [],
      "source": [
        "! /usr/bin/time -v python3 run_scribbledom.py dlpfc_configs/expert_configs/config_151675_expert.json expert"
      ]
    },
    {
      "cell_type": "code",
      "execution_count": null,
      "metadata": {
        "id": "UdXbs9iVOVcS"
      },
      "outputs": [],
      "source": [
        "! /usr/bin/time -v python3 run_scribbledom.py dlpfc_configs/expert_configs/config_151676_expert.json expert"
      ]
    }
  ],
  "metadata": {
    "accelerator": "GPU",
    "colab": {
      "gpuType": "T4",
      "provenance": []
    },
    "kernelspec": {
      "display_name": "Python 3",
      "name": "python3"
    },
    "language_info": {
      "name": "python"
    }
  },
  "nbformat": 4,
  "nbformat_minor": 0
}
